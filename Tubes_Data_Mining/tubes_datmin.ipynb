{
  "cells": [
    {
      "cell_type": "markdown",
      "metadata": {
        "id": "DcNEpIA_VGjv"
      },
      "source": [
        "Data Collection"
      ]
    },
    {
      "cell_type": "code",
      "execution_count": 1,
      "metadata": {
        "id": "WsyOVb28VEue"
      },
      "outputs": [],
      "source": [
        "import pandas as pd\n",
        "import numpy as np\n",
        "import matplotlib.pyplot as plt\n",
        "import seaborn as sns\n",
        "\n",
        "# Load sample data\n",
        "df = pd.read_csv(\"trimmed_coffee_shop_sales_revenue.csv\", delimiter='|')"
      ]
    },
    {
      "cell_type": "markdown",
      "metadata": {
        "id": "AuDguBLNcRiP"
      },
      "source": [
        "Business Understanding"
      ]
    },
    {
      "cell_type": "code",
      "execution_count": 2,
      "metadata": {
        "colab": {
          "base_uri": "https://localhost:8080/",
          "height": 1000
        },
        "id": "GOm-9TWXcQ83",
        "outputId": "da30c50d-285e-49fa-f902-df84fcba96e2"
      },
      "outputs": [
        {
          "name": "stdout",
          "output_type": "stream",
          "text": [
            "<class 'pandas.core.frame.DataFrame'>\n",
            "RangeIndex: 17314 entries, 0 to 17313\n",
            "Data columns (total 11 columns):\n",
            " #   Column            Non-Null Count  Dtype  \n",
            "---  ------            --------------  -----  \n",
            " 0   transaction_id    17314 non-null  int64  \n",
            " 1   transaction_date  17314 non-null  object \n",
            " 2   transaction_time  17314 non-null  object \n",
            " 3   transaction_qty   17314 non-null  int64  \n",
            " 4   store_id          17314 non-null  int64  \n",
            " 5   store_location    17314 non-null  object \n",
            " 6   product_id        17314 non-null  int64  \n",
            " 7   unit_price        17314 non-null  float64\n",
            " 8   product_category  17314 non-null  object \n",
            " 9   product_type      17314 non-null  object \n",
            " 10  product_detail    17314 non-null  object \n",
            "dtypes: float64(1), int64(4), object(6)\n",
            "memory usage: 1.5+ MB\n"
          ]
        },
        {
          "data": {
            "text/plain": [
              "None"
            ]
          },
          "metadata": {},
          "output_type": "display_data"
        },
        {
          "name": "stdout",
          "output_type": "stream",
          "text": [
            "transaction_id : [    1     2     3 ... 17341 17342 17343]\n",
            "transaction_date : ['2023-01-01' '2023-01-02' '2023-01-03' '2023-01-04' '2023-01-05'\n",
            " '2023-01-06' '2023-01-07' '2023-01-08' '2023-01-09' '2023-01-10'\n",
            " '2023-01-11' '2023-01-12' '2023-01-13' '2023-01-14' '2023-01-15'\n",
            " '2023-01-16' '2023-01-17' '2023-01-18' '2023-01-19' '2023-01-20'\n",
            " '2023-01-21' '2023-01-22' '2023-01-23' '2023-01-24' '2023-01-25'\n",
            " '2023-01-26' '2023-01-27' '2023-01-28' '2023-01-29' '2023-01-30'\n",
            " '2023-01-31']\n",
            "transaction_time : ['07:06:11' '07:08:56' '07:14:04' ... '19:53:46' '20:00:57' '20:01:09']\n",
            "transaction_qty : [2 1 3 4 8]\n",
            "store_id : [5 8 3]\n",
            "store_location : ['Lower Manhattan' \"Hell's Kitchen\" 'Astoria']\n",
            "product_id : [32 57 59 22 77 28 39 58 56 33 51 87 47 79 42 61 69 40 43 76 45 71 38 26\n",
            " 27 29 54 55 24 60 78 44 48 23 46 25 34 36 74 53 41 37 50 72 35 70 73 75\n",
            " 31 49 52 30 64 12 63  6  9 65 84 19  7  1 17 10  4 15 16  3 20 83 18 21\n",
            " 13 11  5  2 81 14  8 82]\n",
            "unit_price : [ 3.    3.1   4.5   2.    4.25  3.5   2.55  3.75  2.5   4.75  3.25  4.\n",
            "  2.2   2.45  0.8   8.95 21.   28.    6.4  19.75 12.   18.    9.5  10.\n",
            " 20.45  9.25 22.5  14.75  7.6  14.   10.95 13.33 15.    4.38  4.06  5.63\n",
            "  4.69 45.   23.    2.1   2.65]\n",
            "product_category : ['Coffee' 'Tea' 'Drinking Chocolate' 'Bakery' 'Flavours' 'Loose Tea'\n",
            " 'Coffee beans' 'Packaged Chocolate' 'Branded']\n",
            "product_type : ['Gourmet brewed coffee' 'Brewed Chai tea' 'Hot chocolate' 'Drip coffee'\n",
            " 'Scone' 'Barista Espresso' 'Brewed Black tea' 'Brewed Green tea'\n",
            " 'Brewed herbal tea' 'Biscotti' 'Pastry' 'Organic brewed coffee'\n",
            " 'Premium brewed coffee' 'Regular syrup' 'Herbal tea' 'Gourmet Beans'\n",
            " 'Organic Beans' 'Sugar free syrup' 'Drinking Chocolate' 'Premium Beans'\n",
            " 'Chai tea' 'Green beans' 'Espresso Beans' 'Green tea' 'Organic Chocolate'\n",
            " 'Housewares' 'Black tea' 'House blend Beans' 'Clothing']\n",
            "product_detail : ['Ethiopia Rg' 'Spicy Eye Opener Chai Lg' 'Dark chocolate Lg'\n",
            " 'Our Old Time Diner Blend Sm' 'Oatmeal Scone' 'Columbian Medium Roast Sm'\n",
            " 'Latte Rg' 'Dark chocolate Rg' 'Spicy Eye Opener Chai Rg' 'Ethiopia Lg'\n",
            " 'Earl Grey Lg' 'Ouro Brasileiro shot' 'Serenity Green Tea Lg'\n",
            " 'Jumbo Savory Scone' 'Lemon Grass Rg' 'Sustainably Grown Organic Lg'\n",
            " 'Hazelnut Biscotti' 'Cappuccino' 'Lemon Grass Lg'\n",
            " 'Chocolate Chip Biscotti' 'Peppermint Lg' 'Chocolate Croissant' 'Latte'\n",
            " 'Brazilian Rg' 'Brazilian Lg' 'Columbian Medium Roast Rg'\n",
            " 'Morning Sunrise Chai Rg' 'Morning Sunrise Chai Lg'\n",
            " 'Our Old Time Diner Blend Lg' 'Sustainably Grown Organic Rg'\n",
            " 'Scottish Cream Scone ' 'Peppermint Rg' 'English Breakfast Rg'\n",
            " 'Our Old Time Diner Blend Rg' 'Serenity Green Tea Rg' 'Brazilian Sm'\n",
            " 'Jamaican Coffee River Sm' 'Jamaican Coffee River Lg' 'Ginger Biscotti'\n",
            " 'Traditional Blend Chai Lg' 'Cappuccino Lg' 'Espresso shot'\n",
            " 'Earl Grey Rg' 'Ginger Scone' 'Jamaican Coffee River Rg'\n",
            " 'Cranberry Scone' 'Almond Croissant' 'Croissant' 'Ethiopia Sm'\n",
            " 'English Breakfast Lg' 'Traditional Blend Chai Rg'\n",
            " 'Columbian Medium Roast Lg' 'Hazelnut syrup' 'Peppermint' 'Carmel syrup'\n",
            " 'Ethiopia' 'Organic Decaf Blend' 'Sugar Free Vanilla syrup'\n",
            " 'Chocolate syrup' 'Dark chocolate' 'Jamacian Coffee River'\n",
            " 'Brazilian - Organic' 'Morning Sunrise Chai'\n",
            " 'Guatemalan Sustainably Grown' 'Primo Espresso Roast'\n",
            " 'Serenity Green Tea' 'Traditional Blend Chai' 'Espresso Roast'\n",
            " 'Sustainably Grown Organic' 'I Need My Bean! Latte cup'\n",
            " 'Spicy Eye Opener Chai' 'Chili Mayan' 'English Breakfast' 'Lemon Grass'\n",
            " 'Columbian Medium Roast' 'Our Old Time Diner Blend'\n",
            " 'I Need My Bean! T-shirt' 'Earl Grey' 'Civet Cat'\n",
            " 'I Need My Bean! Diner mug']\n"
          ]
        }
      ],
      "source": [
        "display(df.info())\n",
        "\n",
        "for col in df:\n",
        "    print(f'{col} : {df[col].unique()}')"
      ]
    },
    {
      "cell_type": "markdown",
      "metadata": {
        "id": "A1xlAA3vcZYP"
      },
      "source": [
        "Deskripsi Data"
      ]
    },
    {
      "cell_type": "code",
      "execution_count": 3,
      "metadata": {
        "colab": {
          "base_uri": "https://localhost:8080/",
          "height": 300
        },
        "id": "XDSmT__ica6U",
        "outputId": "ec293bf8-6f92-45bb-c972-b960ee612e14"
      },
      "outputs": [
        {
          "data": {
            "text/html": [
              "<div>\n",
              "<style scoped>\n",
              "    .dataframe tbody tr th:only-of-type {\n",
              "        vertical-align: middle;\n",
              "    }\n",
              "\n",
              "    .dataframe tbody tr th {\n",
              "        vertical-align: top;\n",
              "    }\n",
              "\n",
              "    .dataframe thead th {\n",
              "        text-align: right;\n",
              "    }\n",
              "</style>\n",
              "<table border=\"1\" class=\"dataframe\">\n",
              "  <thead>\n",
              "    <tr style=\"text-align: right;\">\n",
              "      <th></th>\n",
              "      <th>transaction_id</th>\n",
              "      <th>transaction_qty</th>\n",
              "      <th>store_id</th>\n",
              "      <th>product_id</th>\n",
              "      <th>unit_price</th>\n",
              "    </tr>\n",
              "  </thead>\n",
              "  <tbody>\n",
              "    <tr>\n",
              "      <th>count</th>\n",
              "      <td>17314.000000</td>\n",
              "      <td>17314.000000</td>\n",
              "      <td>17314.000000</td>\n",
              "      <td>17314.000000</td>\n",
              "      <td>17314.000000</td>\n",
              "    </tr>\n",
              "    <tr>\n",
              "      <th>mean</th>\n",
              "      <td>8681.054753</td>\n",
              "      <td>1.436410</td>\n",
              "      <td>5.333718</td>\n",
              "      <td>47.894190</td>\n",
              "      <td>3.408689</td>\n",
              "    </tr>\n",
              "    <tr>\n",
              "      <th>std</th>\n",
              "      <td>5005.933316</td>\n",
              "      <td>0.540749</td>\n",
              "      <td>2.074895</td>\n",
              "      <td>18.035754</td>\n",
              "      <td>2.792493</td>\n",
              "    </tr>\n",
              "    <tr>\n",
              "      <th>min</th>\n",
              "      <td>1.000000</td>\n",
              "      <td>1.000000</td>\n",
              "      <td>3.000000</td>\n",
              "      <td>1.000000</td>\n",
              "      <td>0.800000</td>\n",
              "    </tr>\n",
              "    <tr>\n",
              "      <th>25%</th>\n",
              "      <td>4358.250000</td>\n",
              "      <td>1.000000</td>\n",
              "      <td>3.000000</td>\n",
              "      <td>33.000000</td>\n",
              "      <td>2.500000</td>\n",
              "    </tr>\n",
              "    <tr>\n",
              "      <th>50%</th>\n",
              "      <td>8686.500000</td>\n",
              "      <td>1.000000</td>\n",
              "      <td>5.000000</td>\n",
              "      <td>47.000000</td>\n",
              "      <td>3.000000</td>\n",
              "    </tr>\n",
              "    <tr>\n",
              "      <th>75%</th>\n",
              "      <td>13014.750000</td>\n",
              "      <td>2.000000</td>\n",
              "      <td>8.000000</td>\n",
              "      <td>60.000000</td>\n",
              "      <td>3.750000</td>\n",
              "    </tr>\n",
              "    <tr>\n",
              "      <th>max</th>\n",
              "      <td>17343.000000</td>\n",
              "      <td>8.000000</td>\n",
              "      <td>8.000000</td>\n",
              "      <td>87.000000</td>\n",
              "      <td>45.000000</td>\n",
              "    </tr>\n",
              "  </tbody>\n",
              "</table>\n",
              "</div>"
            ],
            "text/plain": [
              "       transaction_id  transaction_qty      store_id    product_id  \\\n",
              "count    17314.000000     17314.000000  17314.000000  17314.000000   \n",
              "mean      8681.054753         1.436410      5.333718     47.894190   \n",
              "std       5005.933316         0.540749      2.074895     18.035754   \n",
              "min          1.000000         1.000000      3.000000      1.000000   \n",
              "25%       4358.250000         1.000000      3.000000     33.000000   \n",
              "50%       8686.500000         1.000000      5.000000     47.000000   \n",
              "75%      13014.750000         2.000000      8.000000     60.000000   \n",
              "max      17343.000000         8.000000      8.000000     87.000000   \n",
              "\n",
              "         unit_price  \n",
              "count  17314.000000  \n",
              "mean       3.408689  \n",
              "std        2.792493  \n",
              "min        0.800000  \n",
              "25%        2.500000  \n",
              "50%        3.000000  \n",
              "75%        3.750000  \n",
              "max       45.000000  "
            ]
          },
          "execution_count": 3,
          "metadata": {},
          "output_type": "execute_result"
        }
      ],
      "source": [
        "df.describe()"
      ]
    },
    {
      "cell_type": "markdown",
      "metadata": {
        "id": "JsDF7euJR3QT"
      },
      "source": [
        "Data Understanding\n",
        "Memperlihatkan outlier pada dataset"
      ]
    },
    {
      "cell_type": "code",
      "execution_count": 4,
      "metadata": {
        "colab": {
          "base_uri": "https://localhost:8080/",
          "height": 442
        },
        "id": "YcMnHY76QWcN",
        "outputId": "29443457-883b-4d8b-90a7-eb4e0f08efb8"
      },
      "outputs": [
        {
          "data": {
            "image/png": "[encoded data removed]",
            "text/plain": [
              "<Figure size 1600x800 with 5 Axes>"
            ]
          },
          "metadata": {},
          "output_type": "display_data"
        }
      ],
      "source": [
        "numeric_columns = df.select_dtypes(include=['number']).columns.tolist()\n",
        "\n",
        "n_cols = 4\n",
        "n_rows = (len(numeric_columns) + n_cols - 1) // n_cols\n",
        "\n",
        "plt.figure(figsize=(n_cols * 4, n_rows * 4))\n",
        "\n",
        "\n",
        "for i, column in enumerate(numeric_columns, 1):\n",
        "    plt.subplot(n_rows, n_cols, i)\n",
        "    sns.boxplot(y=df[column])\n",
        "    plt.title(f'Box Plot of {column}')\n",
        "\n",
        "plt.tight_layout()\n",
        "plt.show()"
      ]
    },
    {
      "cell_type": "code",
      "execution_count": null,
      "metadata": {
        "collapsed": true,
        "id": "5TxBr4H8-UrH"
      },
      "outputs": [],
      "source": []
    },
    {
      "cell_type": "markdown",
      "metadata": {
        "id": "vMYGWRES_2Tl"
      },
      "source": [
        "Data Understanding\n",
        "cek nilai null"
      ]
    },
    {
      "cell_type": "code",
      "execution_count": 5,
      "metadata": {
        "colab": {
          "base_uri": "https://localhost:8080/"
        },
        "id": "X6ReWwWUP-Pv",
        "outputId": "e554fa63-9978-45a3-bbbd-46f98a51e16e"
      },
      "outputs": [
        {
          "name": "stdout",
          "output_type": "stream",
          "text": [
            "transaction_id      0\n",
            "transaction_date    0\n",
            "transaction_time    0\n",
            "transaction_qty     0\n",
            "store_id            0\n",
            "store_location      0\n",
            "product_id          0\n",
            "unit_price          0\n",
            "product_category    0\n",
            "product_type        0\n",
            "product_detail      0\n",
            "dtype: int64\n"
          ]
        }
      ],
      "source": [
        "print(df.isnull().sum())"
      ]
    },
    {
      "cell_type": "markdown",
      "metadata": {
        "id": "E5XF932QS2KL"
      },
      "source": [
        "Data exploration (visual aja)"
      ]
    },
    {
      "cell_type": "code",
      "execution_count": null,
      "metadata": {
        "id": "EbtBvPEHUkiC"
      },
      "outputs": [],
      "source": []
    },
    {
      "cell_type": "markdown",
      "metadata": {
        "id": "efQ3uDA2UkxH"
      },
      "source": [
        "Data Preperation - Data cleaning(cuma clear data yang null kalau ada)"
      ]
    },
    {
      "cell_type": "code",
      "execution_count": null,
      "metadata": {
        "id": "tyRdSzskVF0d"
      },
      "outputs": [],
      "source": []
    },
    {
      "cell_type": "markdown",
      "metadata": {
        "id": "KPmEdZojVFK7"
      },
      "source": [
        "Data preperation - Data cleaning (gausah hapus duplikasi)"
      ]
    },
    {
      "cell_type": "code",
      "execution_count": 6,
      "metadata": {
        "id": "lHp4kDnwVHAD"
      },
      "outputs": [],
      "source": [
        "df = df.drop_duplicates(subset=['product_category', 'store_id', 'product_id', 'transaction_qty', 'transaction_id'])"
      ]
    },
    {
      "cell_type": "markdown",
      "metadata": {
        "id": "D5uipRGUun5m"
      },
      "source": [
        "Data preperation - Transformasi data Mengubah format kolom tanggal dan waktu"
      ]
    },
    {
      "cell_type": "code",
      "execution_count": 7,
      "metadata": {
        "id": "pDGTisOkuyU3"
      },
      "outputs": [],
      "source": [
        "df['transaction_date'] = pd.to_datetime(df['transaction_date'], format='%Y-%m-%d')\n",
        "df['transaction_time'] = pd.to_datetime(df['transaction_time'], format='%H:%M:%S').dt.time"
      ]
    },
    {
      "cell_type": "markdown",
      "metadata": {
        "id": "rSwp0ZoMvDTw"
      },
      "source": [
        "Data preperation - Transformasi data (nambah kolom total_sales)"
      ]
    },
    {
      "cell_type": "code",
      "execution_count": 8,
      "metadata": {
        "id": "GLO0UHILvDoH"
      },
      "outputs": [],
      "source": [
        "df['total_sales'] = df['transaction_qty'] * df['unit_price']"
      ]
    },
    {
      "cell_type": "markdown",
      "metadata": {
        "id": "CTaoS4XSvS15"
      },
      "source": [
        "Data preperation - Transformasi data (ubah tipe data)"
      ]
    },
    {
      "cell_type": "code",
      "execution_count": 9,
      "metadata": {
        "id": "8u_yn0WvvS8j"
      },
      "outputs": [],
      "source": [
        "df['transaction_qty'] = pd.to_numeric(df['transaction_qty'], errors='coerce')\n",
        "df['unit_price'] = pd.to_numeric(df['unit_price'], errors='coerce')"
      ]
    },
    {
      "cell_type": "markdown",
      "metadata": {
        "id": "N2ZOtq6GvlYS"
      },
      "source": [
        "Data preperation - normalisasi"
      ]
    },
    {
      "cell_type": "code",
      "execution_count": 10,
      "metadata": {
        "id": "EKUTjo_4vlfy"
      },
      "outputs": [],
      "source": [
        "from sklearn.preprocessing import MinMaxScaler\n",
        "scaler = MinMaxScaler()\n",
        "df[['transaction_qty', 'unit_price', 'total_sales']] = scaler.fit_transform(df[['transaction_qty', 'unit_price', 'total_sales']])"
      ]
    },
    {
      "cell_type": "markdown",
      "metadata": {
        "id": "FqhL7VGvYeUK"
      },
      "source": [
        "Data preperation - outlier handling"
      ]
    },
    {
      "cell_type": "code",
      "execution_count": null,
      "metadata": {
        "id": "tZL3CPQwWD5i"
      },
      "outputs": [],
      "source": []
    },
    {
      "cell_type": "code",
      "execution_count": 11,
      "metadata": {
        "colab": {
          "base_uri": "https://localhost:8080/",
          "height": 442
        },
        "id": "HusIEEZ5Zvlh",
        "outputId": "4dd8929d-b5b7-4dc5-b144-b90da36bc9e7"
      },
      "outputs": [
        {
          "data": {
            "image/png": "[encoded data removed]",
            "text/plain": [
              "<Figure size 1600x800 with 6 Axes>"
            ]
          },
          "metadata": {},
          "output_type": "display_data"
        }
      ],
      "source": [
        "numeric_columns = df.select_dtypes(include=['number']).columns.tolist()\n",
        "\n",
        "n_cols = 4\n",
        "n_rows = (len(numeric_columns) + n_cols - 1) // n_cols\n",
        "\n",
        "plt.figure(figsize=(n_cols * 4, n_rows * 4))\n",
        "\n",
        "\n",
        "for i, column in enumerate(numeric_columns, 1):\n",
        "    plt.subplot(n_rows, n_cols, i)\n",
        "    sns.boxplot(y=df[column])\n",
        "    plt.title(f'Box Plot of {column}')\n",
        "\n",
        "plt.tight_layout()\n",
        "plt.show()"
      ]
    },
    {
      "cell_type": "markdown",
      "metadata": {
        "id": "0ryGcKq9xbNS"
      },
      "source": [
        "Data preperation - visualisasi"
      ]
    },
    {
      "cell_type": "code",
      "execution_count": 12,
      "metadata": {
        "colab": {
          "base_uri": "https://localhost:8080/",
          "height": 1000
        },
        "id": "538zYEemxc_G",
        "outputId": "eaf37fbb-16c3-423c-bcdb-5c6606c48a14"
      },
      "outputs": [
        {
          "data": {
            "image/png": "[encoded data removed]",
            "text/plain": [
              "<Figure size 1200x600 with 3 Axes>"
            ]
          },
          "metadata": {},
          "output_type": "display_data"
        },
        {
          "data": {
            "image/png": "[encoded data removed]",
            "text/plain": [
              "<Figure size 800x600 with 1 Axes>"
            ]
          },
          "metadata": {},
          "output_type": "display_data"
        },
        {
          "data": {
            "image/png": "[encoded data removed]",
            "text/plain": [
              "<Figure size 800x600 with 1 Axes>"
            ]
          },
          "metadata": {},
          "output_type": "display_data"
        }
      ],
      "source": [
        "# Import libraries untuk visualisasi\n",
        "import seaborn as sns\n",
        "\n",
        "# Set style untuk seaborn (opsional)\n",
        "sns.set(style=\"whitegrid\")\n",
        "\n",
        "# 1. Visualisasi Box Plot untuk kolom 'transaction_qty', 'unit_price', dan 'total_sales'\n",
        "plt.figure(figsize=(12, 6))\n",
        "\n",
        "# Box plot untuk transaction_qty\n",
        "plt.subplot(1, 3, 1)\n",
        "sns.boxplot(x=df['transaction_qty'], color='skyblue')\n",
        "plt.title('Box Plot: Transaction Quantity')\n",
        "\n",
        "# Box plot untuk unit_price\n",
        "plt.subplot(1, 3, 2)\n",
        "sns.boxplot(x=df['unit_price'], color='lightgreen')\n",
        "plt.title('Box Plot: Unit Price')\n",
        "\n",
        "# Box plot untuk total_sales\n",
        "plt.subplot(1, 3, 3)\n",
        "sns.boxplot(x=df['total_sales'], color='salmon')\n",
        "plt.title('Box Plot: Total Sales')\n",
        "\n",
        "plt.tight_layout()\n",
        "plt.show()\n",
        "\n",
        "# 2. Visualisasi Scatter Plot untuk hubungan antara 'transaction_qty' dan 'total_sales'\n",
        "plt.figure(figsize=(8, 6))\n",
        "sns.scatterplot(x=df['transaction_qty'], y=df['total_sales'], color='purple', alpha=0.6)\n",
        "plt.title('Scatter Plot: Transaction Quantity vs Total Sales')\n",
        "plt.xlabel('Transaction Quantity')\n",
        "plt.ylabel('Total Sales')\n",
        "plt.show()\n",
        "\n",
        "# 3. Visualisasi Scatter Plot untuk hubungan antara 'unit_price' dan 'total_sales'\n",
        "plt.figure(figsize=(8, 6))\n",
        "sns.scatterplot(x=df['unit_price'], y=df['total_sales'], color='orange', alpha=0.6)\n",
        "plt.title('Scatter Plot: Unit Price vs Total Sales')\n",
        "plt.xlabel('Unit Price')\n",
        "plt.ylabel('Total Sales')\n",
        "plt.show()\n"
      ]
    },
    {
      "cell_type": "markdown",
      "metadata": {
        "id": "ZHqGiaMmzE_9"
      },
      "source": [
        "Import library untuk modeling and evaluation"
      ]
    },
    {
      "cell_type": "code",
      "execution_count": 13,
      "metadata": {
        "id": "UlK3SKCKzFJ3"
      },
      "outputs": [],
      "source": [
        "from sklearn.model_selection import train_test_split\n",
        "from sklearn.cluster import KMeans\n",
        "from sklearn.linear_model import LinearRegression\n",
        "from sklearn.metrics import mean_squared_error, silhouette_score\n"
      ]
    },
    {
      "cell_type": "markdown",
      "metadata": {
        "id": "RSk00UNIzLYl"
      },
      "source": [
        "Splitting data\n",
        "Memisahkan data untuk model regresi linear\n"
      ]
    },
    {
      "cell_type": "code",
      "execution_count": 14,
      "metadata": {
        "id": "70imXPpczLoV"
      },
      "outputs": [],
      "source": [
        "X = df[['transaction_qty', 'unit_price']]  # Fitur yang digunakan\n",
        "y = df['total_sales']  # Target yang ingin diprediksi\n"
      ]
    },
    {
      "cell_type": "markdown",
      "metadata": {
        "id": "wuhxOVBGzWk0"
      },
      "source": [
        "split data menjadi train dan test set (80% train, 20% test)\n"
      ]
    },
    {
      "cell_type": "code",
      "execution_count": 15,
      "metadata": {
        "id": "FJfYgTzezWso"
      },
      "outputs": [],
      "source": [
        "X_train, X_test, y_train, y_test = train_test_split(X, y, test_size=0.2, random_state=42)"
      ]
    },
    {
      "cell_type": "markdown",
      "metadata": {
        "id": "Ein8Trs9zcbh"
      },
      "source": [
        "K-Means Clustering (untuk klasifikasi produk)\n",
        "Menggunakan fitur 'transaction_qty', 'unit_price', dan 'total_sales' untuk klasterisasi produk\n"
      ]
    },
    {
      "cell_type": "code",
      "execution_count": 16,
      "metadata": {
        "id": "M9MbeDf-zcjJ"
      },
      "outputs": [],
      "source": [
        "kmeans = KMeans(n_clusters=3, random_state=42, n_init='auto')  # Menggunakan 3 cluster sebagai contoh\n",
        "df['product_cluster'] = kmeans.fit_predict(df[['transaction_qty', 'unit_price', 'total_sales']])\n"
      ]
    },
    {
      "cell_type": "markdown",
      "metadata": {
        "id": "GQpZo4y_zncw"
      },
      "source": [
        "Menampilkan informasi tentang klaster produk\n"
      ]
    },
    {
      "cell_type": "code",
      "execution_count": 17,
      "metadata": {
        "colab": {
          "base_uri": "https://localhost:8080/"
        },
        "id": "Piaey37Aznki",
        "outputId": "bae64791-01f1-4773-d866-ef8d92ba53fc"
      },
      "outputs": [
        {
          "name": "stdout",
          "output_type": "stream",
          "text": [
            "Cluster centers (Centroids of each cluster):\n",
            "[[8.11850587e-16 5.53441813e-02 6.81016930e-03]\n",
            " [1.49957240e-01 4.78647107e-02 1.44156101e-02]\n",
            " [8.10536981e-03 4.71550175e-01 6.45602324e-02]]\n"
          ]
        }
      ],
      "source": [
        "print(\"Cluster centers (Centroids of each cluster):\")\n",
        "print(kmeans.cluster_centers_)"
      ]
    },
    {
      "cell_type": "markdown",
      "metadata": {
        "id": "XP53wfPeztsq"
      },
      "source": [
        "Evaluasi K-Means dengan Silhouette Score dan WCSS\n"
      ]
    },
    {
      "cell_type": "code",
      "execution_count": 18,
      "metadata": {
        "colab": {
          "base_uri": "https://localhost:8080/"
        },
        "id": "SkcswOkuztym",
        "outputId": "72d3a702-9edd-4e4b-c33a-f64f9ae69883"
      },
      "outputs": [
        {
          "name": "stdout",
          "output_type": "stream",
          "text": [
            "\n",
            "Silhouette Score untuk K-Means: 0.8214439460646158\n"
          ]
        }
      ],
      "source": [
        "silhouette_avg = silhouette_score(X, kmeans.labels_)\n",
        "print(\"\\nSilhouette Score untuk K-Means:\", silhouette_avg)\n"
      ]
    },
    {
      "cell_type": "markdown",
      "metadata": {
        "id": "TTovvGx_zySl"
      },
      "source": [
        "Menghitung Within-Cluster Sum of Squares (WCSS)\n"
      ]
    },
    {
      "cell_type": "code",
      "execution_count": 19,
      "metadata": {
        "colab": {
          "base_uri": "https://localhost:8080/"
        },
        "id": "SlwooJ6Vzycp",
        "outputId": "4cb2f63d-4e76-4b9a-f481-f0227652f327"
      },
      "outputs": [
        {
          "name": "stdout",
          "output_type": "stream",
          "text": [
            "\n",
            "Within-Cluster Sum of Squares (WCSS): 31.38153133039839\n"
          ]
        }
      ],
      "source": [
        "wcss = kmeans.inertia_\n",
        "print(\"\\nWithin-Cluster Sum of Squares (WCSS):\", wcss)\n"
      ]
    },
    {
      "cell_type": "markdown",
      "metadata": {
        "id": "pQIohgk3z347"
      },
      "source": [
        "Linear Regression (untuk prediksi penjualan)\n",
        "Membuat dan melatih model regresi linear\n"
      ]
    },
    {
      "cell_type": "code",
      "execution_count": 20,
      "metadata": {
        "colab": {
          "base_uri": "https://localhost:8080/",
          "height": 80
        },
        "id": "uPsqiz0Jz3_J",
        "outputId": "1bffb3f3-d9d2-47c1-dfab-18d9d98390f8"
      },
      "outputs": [
        {
          "data": {
            "text/html": [
              "<style>#sk-container-id-1 {\n",
              "  /* Definition of color scheme common for light and dark mode */\n",
              "  --sklearn-color-text: #000;\n",
              "  --sklearn-color-text-muted: #666;\n",
              "  --sklearn-color-line: gray;\n",
              "  /* Definition of color scheme for unfitted estimators */\n",
              "  --sklearn-color-unfitted-level-0: #fff5e6;\n",
              "  --sklearn-color-unfitted-level-1: #f6e4d2;\n",
              "  --sklearn-color-unfitted-level-2: #ffe0b3;\n",
              "  --sklearn-color-unfitted-level-3: chocolate;\n",
              "  /* Definition of color scheme for fitted estimators */\n",
              "  --sklearn-color-fitted-level-0: #f0f8ff;\n",
              "  --sklearn-color-fitted-level-1: #d4ebff;\n",
              "  --sklearn-color-fitted-level-2: #b3dbfd;\n",
              "  --sklearn-color-fitted-level-3: cornflowerblue;\n",
              "\n",
              "  /* Specific color for light theme */\n",
              "  --sklearn-color-text-on-default-background: var(--sg-text-color, var(--theme-code-foreground, var(--jp-content-font-color1, black)));\n",
              "  --sklearn-color-background: var(--sg-background-color, var(--theme-background, var(--jp-layout-color0, white)));\n",
              "  --sklearn-color-border-box: var(--sg-text-color, var(--theme-code-foreground, var(--jp-content-font-color1, black)));\n",
              "  --sklearn-color-icon: #696969;\n",
              "\n",
              "  @media (prefers-color-scheme: dark) {\n",
              "    /* Redefinition of color scheme for dark theme */\n",
              "    --sklearn-color-text-on-default-background: var(--sg-text-color, var(--theme-code-foreground, var(--jp-content-font-color1, white)));\n",
              "    --sklearn-color-background: var(--sg-background-color, var(--theme-background, var(--jp-layout-color0, #111)));\n",
              "    --sklearn-color-border-box: var(--sg-text-color, var(--theme-code-foreground, var(--jp-content-font-color1, white)));\n",
              "    --sklearn-color-icon: #878787;\n",
              "  }\n",
              "}\n",
              "\n",
              "#sk-container-id-1 {\n",
              "  color: var(--sklearn-color-text);\n",
              "}\n",
              "\n",
              "#sk-container-id-1 pre {\n",
              "  padding: 0;\n",
              "}\n",
              "\n",
              "#sk-container-id-1 input.sk-hidden--visually {\n",
              "  border: 0;\n",
              "  clip: rect(1px 1px 1px 1px);\n",
              "  clip: rect(1px, 1px, 1px, 1px);\n",
              "  height: 1px;\n",
              "  margin: -1px;\n",
              "  overflow: hidden;\n",
              "  padding: 0;\n",
              "  position: absolute;\n",
              "  width: 1px;\n",
              "}\n",
              "\n",
              "#sk-container-id-1 div.sk-dashed-wrapped {\n",
              "  border: 1px dashed var(--sklearn-color-line);\n",
              "  margin: 0 0.4em 0.5em 0.4em;\n",
              "  box-sizing: border-box;\n",
              "  padding-bottom: 0.4em;\n",
              "  background-color: var(--sklearn-color-background);\n",
              "}\n",
              "\n",
              "#sk-container-id-1 div.sk-container {\n",
              "  /* jupyter's `normalize.less` sets `[hidden] { display: none; }`\n",
              "     but bootstrap.min.css set `[hidden] { display: none !important; }`\n",
              "     so we also need the `!important` here to be able to override the\n",
              "     default hidden behavior on the sphinx rendered scikit-learn.org.\n",
              "     See: https://github.com/scikit-learn/scikit-learn/issues/21755 */\n",
              "  display: inline-block !important;\n",
              "  position: relative;\n",
              "}\n",
              "\n",
              "#sk-container-id-1 div.sk-text-repr-fallback {\n",
              "  display: none;\n",
              "}\n",
              "\n",
              "div.sk-parallel-item,\n",
              "div.sk-serial,\n",
              "div.sk-item {\n",
              "  /* draw centered vertical line to link estimators */\n",
              "  background-image: linear-gradient(var(--sklearn-color-text-on-default-background), var(--sklearn-color-text-on-default-background));\n",
              "  background-size: 2px 100%;\n",
              "  background-repeat: no-repeat;\n",
              "  background-position: center center;\n",
              "}\n",
              "\n",
              "/* Parallel-specific style estimator block */\n",
              "\n",
              "#sk-container-id-1 div.sk-parallel-item::after {\n",
              "  content: \"\";\n",
              "  width: 100%;\n",
              "  border-bottom: 2px solid var(--sklearn-color-text-on-default-background);\n",
              "  flex-grow: 1;\n",
              "}\n",
              "\n",
              "#sk-container-id-1 div.sk-parallel {\n",
              "  display: flex;\n",
              "  align-items: stretch;\n",
              "  justify-content: center;\n",
              "  background-color: var(--sklearn-color-background);\n",
              "  position: relative;\n",
              "}\n",
              "\n",
              "#sk-container-id-1 div.sk-parallel-item {\n",
              "  display: flex;\n",
              "  flex-direction: column;\n",
              "}\n",
              "\n",
              "#sk-container-id-1 div.sk-parallel-item:first-child::after {\n",
              "  align-self: flex-end;\n",
              "  width: 50%;\n",
              "}\n",
              "\n",
              "#sk-container-id-1 div.sk-parallel-item:last-child::after {\n",
              "  align-self: flex-start;\n",
              "  width: 50%;\n",
              "}\n",
              "\n",
              "#sk-container-id-1 div.sk-parallel-item:only-child::after {\n",
              "  width: 0;\n",
              "}\n",
              "\n",
              "/* Serial-specific style estimator block */\n",
              "\n",
              "#sk-container-id-1 div.sk-serial {\n",
              "  display: flex;\n",
              "  flex-direction: column;\n",
              "  align-items: center;\n",
              "  background-color: var(--sklearn-color-background);\n",
              "  padding-right: 1em;\n",
              "  padding-left: 1em;\n",
              "}\n",
              "\n",
              "\n",
              "/* Toggleable style: style used for estimator/Pipeline/ColumnTransformer box that is\n",
              "clickable and can be expanded/collapsed.\n",
              "- Pipeline and ColumnTransformer use this feature and define the default style\n",
              "- Estimators will overwrite some part of the style using the `sk-estimator` class\n",
              "*/\n",
              "\n",
              "/* Pipeline and ColumnTransformer style (default) */\n",
              "\n",
              "#sk-container-id-1 div.sk-toggleable {\n",
              "  /* Default theme specific background. It is overwritten whether we have a\n",
              "  specific estimator or a Pipeline/ColumnTransformer */\n",
              "  background-color: var(--sklearn-color-background);\n",
              "}\n",
              "\n",
              "/* Toggleable label */\n",
              "#sk-container-id-1 label.sk-toggleable__label {\n",
              "  cursor: pointer;\n",
              "  display: flex;\n",
              "  width: 100%;\n",
              "  margin-bottom: 0;\n",
              "  padding: 0.5em;\n",
              "  box-sizing: border-box;\n",
              "  text-align: center;\n",
              "  align-items: start;\n",
              "  justify-content: space-between;\n",
              "  gap: 0.5em;\n",
              "}\n",
              "\n",
              "#sk-container-id-1 label.sk-toggleable__label .caption {\n",
              "  font-size: 0.6rem;\n",
              "  font-weight: lighter;\n",
              "  color: var(--sklearn-color-text-muted);\n",
              "}\n",
              "\n",
              "#sk-container-id-1 label.sk-toggleable__label-arrow:before {\n",
              "  /* Arrow on the left of the label */\n",
              "  content: \"▸\";\n",
              "  float: left;\n",
              "  margin-right: 0.25em;\n",
              "  color: var(--sklearn-color-icon);\n",
              "}\n",
              "\n",
              "#sk-container-id-1 label.sk-toggleable__label-arrow:hover:before {\n",
              "  color: var(--sklearn-color-text);\n",
              "}\n",
              "\n",
              "/* Toggleable content - dropdown */\n",
              "\n",
              "#sk-container-id-1 div.sk-toggleable__content {\n",
              "  max-height: 0;\n",
              "  max-width: 0;\n",
              "  overflow: hidden;\n",
              "  text-align: left;\n",
              "  /* unfitted */\n",
              "  background-color: var(--sklearn-color-unfitted-level-0);\n",
              "}\n",
              "\n",
              "#sk-container-id-1 div.sk-toggleable__content.fitted {\n",
              "  /* fitted */\n",
              "  background-color: var(--sklearn-color-fitted-level-0);\n",
              "}\n",
              "\n",
              "#sk-container-id-1 div.sk-toggleable__content pre {\n",
              "  margin: 0.2em;\n",
              "  border-radius: 0.25em;\n",
              "  color: var(--sklearn-color-text);\n",
              "  /* unfitted */\n",
              "  background-color: var(--sklearn-color-unfitted-level-0);\n",
              "}\n",
              "\n",
              "#sk-container-id-1 div.sk-toggleable__content.fitted pre {\n",
              "  /* unfitted */\n",
              "  background-color: var(--sklearn-color-fitted-level-0);\n",
              "}\n",
              "\n",
              "#sk-container-id-1 input.sk-toggleable__control:checked~div.sk-toggleable__content {\n",
              "  /* Expand drop-down */\n",
              "  max-height: 200px;\n",
              "  max-width: 100%;\n",
              "  overflow: auto;\n",
              "}\n",
              "\n",
              "#sk-container-id-1 input.sk-toggleable__control:checked~label.sk-toggleable__label-arrow:before {\n",
              "  content: \"▾\";\n",
              "}\n",
              "\n",
              "/* Pipeline/ColumnTransformer-specific style */\n",
              "\n",
              "#sk-container-id-1 div.sk-label input.sk-toggleable__control:checked~label.sk-toggleable__label {\n",
              "  color: var(--sklearn-color-text);\n",
              "  background-color: var(--sklearn-color-unfitted-level-2);\n",
              "}\n",
              "\n",
              "#sk-container-id-1 div.sk-label.fitted input.sk-toggleable__control:checked~label.sk-toggleable__label {\n",
              "  background-color: var(--sklearn-color-fitted-level-2);\n",
              "}\n",
              "\n",
              "/* Estimator-specific style */\n",
              "\n",
              "/* Colorize estimator box */\n",
              "#sk-container-id-1 div.sk-estimator input.sk-toggleable__control:checked~label.sk-toggleable__label {\n",
              "  /* unfitted */\n",
              "  background-color: var(--sklearn-color-unfitted-level-2);\n",
              "}\n",
              "\n",
              "#sk-container-id-1 div.sk-estimator.fitted input.sk-toggleable__control:checked~label.sk-toggleable__label {\n",
              "  /* fitted */\n",
              "  background-color: var(--sklearn-color-fitted-level-2);\n",
              "}\n",
              "\n",
              "#sk-container-id-1 div.sk-label label.sk-toggleable__label,\n",
              "#sk-container-id-1 div.sk-label label {\n",
              "  /* The background is the default theme color */\n",
              "  color: var(--sklearn-color-text-on-default-background);\n",
              "}\n",
              "\n",
              "/* On hover, darken the color of the background */\n",
              "#sk-container-id-1 div.sk-label:hover label.sk-toggleable__label {\n",
              "  color: var(--sklearn-color-text);\n",
              "  background-color: var(--sklearn-color-unfitted-level-2);\n",
              "}\n",
              "\n",
              "/* Label box, darken color on hover, fitted */\n",
              "#sk-container-id-1 div.sk-label.fitted:hover label.sk-toggleable__label.fitted {\n",
              "  color: var(--sklearn-color-text);\n",
              "  background-color: var(--sklearn-color-fitted-level-2);\n",
              "}\n",
              "\n",
              "/* Estimator label */\n",
              "\n",
              "#sk-container-id-1 div.sk-label label {\n",
              "  font-family: monospace;\n",
              "  font-weight: bold;\n",
              "  display: inline-block;\n",
              "  line-height: 1.2em;\n",
              "}\n",
              "\n",
              "#sk-container-id-1 div.sk-label-container {\n",
              "  text-align: center;\n",
              "}\n",
              "\n",
              "/* Estimator-specific */\n",
              "#sk-container-id-1 div.sk-estimator {\n",
              "  font-family: monospace;\n",
              "  border: 1px dotted var(--sklearn-color-border-box);\n",
              "  border-radius: 0.25em;\n",
              "  box-sizing: border-box;\n",
              "  margin-bottom: 0.5em;\n",
              "  /* unfitted */\n",
              "  background-color: var(--sklearn-color-unfitted-level-0);\n",
              "}\n",
              "\n",
              "#sk-container-id-1 div.sk-estimator.fitted {\n",
              "  /* fitted */\n",
              "  background-color: var(--sklearn-color-fitted-level-0);\n",
              "}\n",
              "\n",
              "/* on hover */\n",
              "#sk-container-id-1 div.sk-estimator:hover {\n",
              "  /* unfitted */\n",
              "  background-color: var(--sklearn-color-unfitted-level-2);\n",
              "}\n",
              "\n",
              "#sk-container-id-1 div.sk-estimator.fitted:hover {\n",
              "  /* fitted */\n",
              "  background-color: var(--sklearn-color-fitted-level-2);\n",
              "}\n",
              "\n",
              "/* Specification for estimator info (e.g. \"i\" and \"?\") */\n",
              "\n",
              "/* Common style for \"i\" and \"?\" */\n",
              "\n",
              ".sk-estimator-doc-link,\n",
              "a:link.sk-estimator-doc-link,\n",
              "a:visited.sk-estimator-doc-link {\n",
              "  float: right;\n",
              "  font-size: smaller;\n",
              "  line-height: 1em;\n",
              "  font-family: monospace;\n",
              "  background-color: var(--sklearn-color-background);\n",
              "  border-radius: 1em;\n",
              "  height: 1em;\n",
              "  width: 1em;\n",
              "  text-decoration: none !important;\n",
              "  margin-left: 0.5em;\n",
              "  text-align: center;\n",
              "  /* unfitted */\n",
              "  border: var(--sklearn-color-unfitted-level-1) 1pt solid;\n",
              "  color: var(--sklearn-color-unfitted-level-1);\n",
              "}\n",
              "\n",
              ".sk-estimator-doc-link.fitted,\n",
              "a:link.sk-estimator-doc-link.fitted,\n",
              "a:visited.sk-estimator-doc-link.fitted {\n",
              "  /* fitted */\n",
              "  border: var(--sklearn-color-fitted-level-1) 1pt solid;\n",
              "  color: var(--sklearn-color-fitted-level-1);\n",
              "}\n",
              "\n",
              "/* On hover */\n",
              "div.sk-estimator:hover .sk-estimator-doc-link:hover,\n",
              ".sk-estimator-doc-link:hover,\n",
              "div.sk-label-container:hover .sk-estimator-doc-link:hover,\n",
              ".sk-estimator-doc-link:hover {\n",
              "  /* unfitted */\n",
              "  background-color: var(--sklearn-color-unfitted-level-3);\n",
              "  color: var(--sklearn-color-background);\n",
              "  text-decoration: none;\n",
              "}\n",
              "\n",
              "div.sk-estimator.fitted:hover .sk-estimator-doc-link.fitted:hover,\n",
              ".sk-estimator-doc-link.fitted:hover,\n",
              "div.sk-label-container:hover .sk-estimator-doc-link.fitted:hover,\n",
              ".sk-estimator-doc-link.fitted:hover {\n",
              "  /* fitted */\n",
              "  background-color: var(--sklearn-color-fitted-level-3);\n",
              "  color: var(--sklearn-color-background);\n",
              "  text-decoration: none;\n",
              "}\n",
              "\n",
              "/* Span, style for the box shown on hovering the info icon */\n",
              ".sk-estimator-doc-link span {\n",
              "  display: none;\n",
              "  z-index: 9999;\n",
              "  position: relative;\n",
              "  font-weight: normal;\n",
              "  right: .2ex;\n",
              "  padding: .5ex;\n",
              "  margin: .5ex;\n",
              "  width: min-content;\n",
              "  min-width: 20ex;\n",
              "  max-width: 50ex;\n",
              "  color: var(--sklearn-color-text);\n",
              "  box-shadow: 2pt 2pt 4pt #999;\n",
              "  /* unfitted */\n",
              "  background: var(--sklearn-color-unfitted-level-0);\n",
              "  border: .5pt solid var(--sklearn-color-unfitted-level-3);\n",
              "}\n",
              "\n",
              ".sk-estimator-doc-link.fitted span {\n",
              "  /* fitted */\n",
              "  background: var(--sklearn-color-fitted-level-0);\n",
              "  border: var(--sklearn-color-fitted-level-3);\n",
              "}\n",
              "\n",
              ".sk-estimator-doc-link:hover span {\n",
              "  display: block;\n",
              "}\n",
              "\n",
              "/* \"?\"-specific style due to the `<a>` HTML tag */\n",
              "\n",
              "#sk-container-id-1 a.estimator_doc_link {\n",
              "  float: right;\n",
              "  font-size: 1rem;\n",
              "  line-height: 1em;\n",
              "  font-family: monospace;\n",
              "  background-color: var(--sklearn-color-background);\n",
              "  border-radius: 1rem;\n",
              "  height: 1rem;\n",
              "  width: 1rem;\n",
              "  text-decoration: none;\n",
              "  /* unfitted */\n",
              "  color: var(--sklearn-color-unfitted-level-1);\n",
              "  border: var(--sklearn-color-unfitted-level-1) 1pt solid;\n",
              "}\n",
              "\n",
              "#sk-container-id-1 a.estimator_doc_link.fitted {\n",
              "  /* fitted */\n",
              "  border: var(--sklearn-color-fitted-level-1) 1pt solid;\n",
              "  color: var(--sklearn-color-fitted-level-1);\n",
              "}\n",
              "\n",
              "/* On hover */\n",
              "#sk-container-id-1 a.estimator_doc_link:hover {\n",
              "  /* unfitted */\n",
              "  background-color: var(--sklearn-color-unfitted-level-3);\n",
              "  color: var(--sklearn-color-background);\n",
              "  text-decoration: none;\n",
              "}\n",
              "\n",
              "#sk-container-id-1 a.estimator_doc_link.fitted:hover {\n",
              "  /* fitted */\n",
              "  background-color: var(--sklearn-color-fitted-level-3);\n",
              "}\n",
              "</style><div id=\"sk-container-id-1\" class=\"sk-top-container\"><div class=\"sk-text-repr-fallback\"><pre>LinearRegression()</pre><b>In a Jupyter environment, please rerun this cell to show the HTML representation or trust the notebook. <br />On GitHub, the HTML representation is unable to render, please try loading this page with nbviewer.org.</b></div><div class=\"sk-container\" hidden><div class=\"sk-item\"><div class=\"sk-estimator fitted sk-toggleable\"><input class=\"sk-toggleable__control sk-hidden--visually\" id=\"sk-estimator-id-1\" type=\"checkbox\" checked><label for=\"sk-estimator-id-1\" class=\"sk-toggleable__label fitted sk-toggleable__label-arrow\"><div><div>LinearRegression</div></div><div><a class=\"sk-estimator-doc-link fitted\" rel=\"noreferrer\" target=\"_blank\" href=\"https://scikit-learn.org/1.6/modules/generated/sklearn.linear_model.LinearRegression.html\">?<span>Documentation for LinearRegression</span></a><span class=\"sk-estimator-doc-link fitted\">i<span>Fitted</span></span></div></label><div class=\"sk-toggleable__content fitted\"><pre>LinearRegression()</pre></div> </div></div></div></div>"
            ],
            "text/plain": [
              "LinearRegression()"
            ]
          },
          "execution_count": 20,
          "metadata": {},
          "output_type": "execute_result"
        }
      ],
      "source": [
        "regressor = LinearRegression()\n",
        "regressor.fit(X_train, y_train)\n"
      ]
    },
    {
      "cell_type": "markdown",
      "metadata": {
        "id": "1xo3fhcGz-u0"
      },
      "source": [
        "Evaluasi Regresi Linear (Prediksi Penjualan)\n"
      ]
    },
    {
      "cell_type": "code",
      "execution_count": 21,
      "metadata": {
        "id": "nj4GAsSez-24"
      },
      "outputs": [],
      "source": [
        "y_pred = regressor.predict(X_test)\n"
      ]
    },
    {
      "cell_type": "markdown",
      "metadata": {
        "id": "CuY7JojB0EDk"
      },
      "source": [
        "Menghitung Mean Squared Error (MSE) dan Root Mean Squared Error (RMSE)\n"
      ]
    },
    {
      "cell_type": "code",
      "execution_count": 22,
      "metadata": {
        "id": "0NLRnujl0ENe"
      },
      "outputs": [],
      "source": [
        "mse = mean_squared_error(y_test, y_pred)\n",
        "rmse = np.sqrt(mse)\n"
      ]
    },
    {
      "cell_type": "code",
      "execution_count": 23,
      "metadata": {
        "colab": {
          "base_uri": "https://localhost:8080/"
        },
        "id": "To8AJCKJ0L38",
        "outputId": "c5f386aa-6299-4989-92a5-cd55b551d868"
      },
      "outputs": [
        {
          "name": "stdout",
          "output_type": "stream",
          "text": [
            "\n",
            "Mean Squared Error (MSE) untuk Regresi Linear: 7.153208698531382e-06\n",
            "Root Mean Squared Error (RMSE) untuk Regresi Linear: 0.0026745483167315153\n"
          ]
        }
      ],
      "source": [
        "print(\"\\nMean Squared Error (MSE) untuk Regresi Linear:\", mse)\n",
        "print(\"Root Mean Squared Error (RMSE) untuk Regresi Linear:\", rmse)\n"
      ]
    },
    {
      "cell_type": "markdown",
      "metadata": {
        "id": "fKzCALzZ0PVC"
      },
      "source": [
        "Menampilkan Koefisien Model Regresi\n"
      ]
    },
    {
      "cell_type": "code",
      "execution_count": 24,
      "metadata": {
        "colab": {
          "base_uri": "https://localhost:8080/"
        },
        "id": "i3ysVgBl0Pd3",
        "outputId": "b6028180-d964-4db3-d993-08c5e8fd3cfd"
      },
      "outputs": [
        {
          "name": "stdout",
          "output_type": "stream",
          "text": [
            "\n",
            "Koefisien Regresi Linear:\n",
            "Intercept: -0.0033220040094585172\n",
            "Koefisien (Transaction Quantity): 0.078716366112537\n",
            "Koefisien (Unit Price): 0.15797918368489472\n"
          ]
        }
      ],
      "source": [
        "print(\"\\nKoefisien Regresi Linear:\")\n",
        "print(f'Intercept: {regressor.intercept_}')\n",
        "print(f'Koefisien (Transaction Quantity): {regressor.coef_[0]}')\n",
        "print(f'Koefisien (Unit Price): {regressor.coef_[1]}')"
      ]
    },
    {
      "cell_type": "markdown",
      "metadata": {},
      "source": [
        "Daily sales Prediction"
      ]
    },
    {
      "cell_type": "code",
      "execution_count": 25,
      "metadata": {},
      "outputs": [
        {
          "name": "stdout",
          "output_type": "stream",
          "text": [
            "\n",
            "--- Daily Sales Prediction Model Evaluation ---\n",
            "Mean Squared Error (MSE) for Daily Sales Regression: 0.37704741954087956\n",
            "Root Mean Squared Error (RMSE) for Daily Sales Regression: 0.6140418711626102\n",
            "Koefisien Regresi Linear (Daily Sales - Day of Week): -0.018259242348488303\n",
            "Intercept (Daily Sales): 6.168814382404106\n"
          ]
        }
      ],
      "source": [
        "daily_sales_df = df.groupby('transaction_date')['total_sales'].sum().reset_index()\n",
        "daily_sales_df['day_of_week'] = daily_sales_df['transaction_date'].dt.dayofweek\n",
        "X_daily = daily_sales_df[['day_of_week']]\n",
        "y_daily = daily_sales_df['total_sales']\n",
        "X_train_daily, X_test_daily, y_train_daily, y_test_daily = train_test_split(X_daily, y_daily, test_size=0.2, random_state=42)\n",
        "daily_regressor = LinearRegression()\n",
        "daily_regressor.fit(X_train_daily, y_train_daily)\n",
        "y_pred_daily = daily_regressor.predict(X_test_daily)\n",
        "mse_daily = mean_squared_error(y_test_daily, y_pred_daily)\n",
        "rmse_daily = np.sqrt(mse_daily)\n",
        "print(\"\\n--- Daily Sales Prediction Model Evaluation ---\")\n",
        "print(\"Mean Squared Error (MSE) for Daily Sales Regression:\", mse_daily)\n",
        "print(\"Root Mean Squared Error (RMSE) for Daily Sales Regression:\", rmse_daily)\n",
        "print(\"Koefisien Regresi Linear (Daily Sales - Day of Week):\", daily_regressor.coef_[0])\n",
        "print(\"Intercept (Daily Sales):\", daily_regressor.intercept_)"
      ]
    },
    {
      "cell_type": "markdown",
      "metadata": {
        "id": "_mW76dag3fr-"
      },
      "source": [
        "Dump"
      ]
    },
    {
      "cell_type": "code",
      "execution_count": 26,
      "metadata": {
        "id": "OpLhQQML3fx_"
      },
      "outputs": [
        {
          "data": {
            "text/plain": [
              "['daily_regressor_model.pkl']"
            ]
          },
          "execution_count": 26,
          "metadata": {},
          "output_type": "execute_result"
        }
      ],
      "source": [
        "import joblib\n",
        "joblib.dump(regressor, 'regressor_model.pkl')\n",
        "joblib.dump(kmeans, 'kmeans_model.pkl')\n",
        "joblib.dump(scaler, 'scaler_model.pkl')\n",
        "joblib.dump(daily_regressor, 'daily_regressor_model.pkl') # Save the daily regressor model"
      ]
    },
    {
      "cell_type": "markdown",
      "metadata": {
        "id": "vt4K4NpL3R9w"
      },
      "source": [
        "ngrok"
      ]
    },
    {
      "cell_type": "code",
      "execution_count": 27,
      "metadata": {
        "id": "N90hE2ne3SM7"
      },
      "outputs": [
        {
          "name": "stdout",
          "output_type": "stream",
          "text": [
            "Authtoken saved to configuration file: C:\\Users\\daffa\\AppData\\Local/ngrok/ngrok.yml\n"
          ]
        }
      ],
      "source": [
        "!ngrok config add-authtoken 2wxQwo1M4SbwqvPMzaZSBEbVZCb_87qfHAW5EjAwpxmpZPPa5"
      ]
    },
    {
      "cell_type": "markdown",
      "metadata": {
        "id": "Je6jaB1j2bmg"
      },
      "source": [
        "Dashboard"
      ]
    },
    {
      "cell_type": "code",
      "execution_count": 37,
      "metadata": {
        "id": "wCFBK7Hi2buE"
      },
      "outputs": [
        {
          "name": "stdout",
          "output_type": "stream",
          "text": [
            "Overwriting app.py\n"
          ]
        }
      ],
      "source": [
        "%%writefile app.py\n",
        "import streamlit as st\n",
        "import pandas as pd\n",
        "import numpy as np\n",
        "import joblib\n",
        "import datetime\n",
        "import io\n",
        "import plotly.express as px\n",
        "\n",
        "st.set_page_config(layout=\"wide\") # Gunakan layout lebar untuk tampilan yang lebih baik\n",
        "\n",
        "st.title('Dashboard Klasifikasi Produk dan Prediksi Penjualan Harian Maven Roasters Coffee')\n",
        "\n",
        "# --- Muat Model dan Data ---\n",
        "st.header(\"1. Muat Model dan Data\")\n",
        "\n",
        "# Muat model\n",
        "try:\n",
        "    kmeans = joblib.load('kmeans_model.pkl')\n",
        "    scaler = joblib.load('scaler_model.pkl')\n",
        "    daily_regressor = joblib.load('daily_regressor_model.pkl')\n",
        "    st.success(\"Semua model machine learning berhasil dimuat!\")\n",
        "except FileNotFoundError:\n",
        "    st.error(\"File model tidak ditemukan. Pastikan 'kmeans_model.pkl', 'scaler_model.pkl', dan 'daily_regressor_model.pkl' berada di direktori yang sama.\")\n",
        "    st.stop() # Hentikan eksekusi jika model tidak ditemukan\n",
        "\n",
        "# Muat dataset secara langsung (tidak perlu upload)\n",
        "try:\n",
        "    df_raw = pd.read_csv(\"trimmed_coffee_shop_sales_revenue.csv\", delimiter='|')\n",
        "    st.success(\"Dataset 'trimmed_coffee_shop_sales_revenue.csv' berhasil dimuat!\")\n",
        "except FileNotFoundError:\n",
        "    st.error(\"Dataset 'trimmed_coffee_shop_sales_revenue.csv' tidak ditemukan. Pastikan berada di direktori yang sama.\")\n",
        "    st.stop()\n",
        "\n",
        "# --- Pra-pemrosesan Data (Ringan) ---\n",
        "st.header(\"2. Pra-pemrosesan Data (Ringan)\")\n",
        "df_processed = df_raw.copy()\n",
        "df_processed['transaction_date'] = pd.to_datetime(df_processed['transaction_date'], format='%Y-%m-%d')\n",
        "df_processed['transaction_time'] = pd.to_datetime(df_processed['transaction_time'], format='%H:%M:%S').dt.time\n",
        "df_processed['total_sales'] = df_processed['transaction_qty'] * df_processed['unit_price']\n",
        "\n",
        "# Terapkan scaler yang sudah dilatih sebelumnya. Pastikan kolom cocok dengan data pelatihan.\n",
        "numerical_cols_for_scaling = ['transaction_qty', 'unit_price', 'total_sales']\n",
        "# Periksa apakah kolom-kolom ini ada sebelum scaling\n",
        "if all(col in df_processed.columns for col in numerical_cols_for_scaling):\n",
        "    # Pastikan kolom-kolomnya numerik sebelum scaling (penting untuk scaling yang robust)\n",
        "    for col in numerical_cols_for_scaling:\n",
        "        df_processed[col] = pd.to_numeric(df_processed[col], errors='coerce')\n",
        "\n",
        "    # Buat salinan df_processed sebelum scaling untuk inverse transform nanti jika diperlukan\n",
        "    df_original_scale_for_inverse = df_processed[numerical_cols_for_scaling].copy()\n",
        "\n",
        "    df_processed[numerical_cols_for_scaling] = scaler.transform(df_processed[numerical_cols_for_scaling])\n",
        "else:\n",
        "    st.warning(\"Tidak dapat melakukan pra-pemrosesan penuh: Kolom numerik yang diperlukan untuk scaling tidak ditemukan.\")\n",
        "\n",
        "\n",
        "st.write(\"Data telah dipra-proses (konversi tanggal/waktu, perhitungan total_sales, dan normalisasi diterapkan).\")\n",
        "st.write(\"5 baris pertama data yang diproses:\")\n",
        "st.dataframe(df_processed.head())\n",
        "\n",
        "# --- Informasi Dataset ---\n",
        "st.header(\"3. Informasi Dataset\")\n",
        "\n",
        "st.subheader(\"Head DataFrame\")\n",
        "st.dataframe(df_raw.head())\n",
        "\n",
        "st.subheader(\"Info DataFrame\")\n",
        "buffer = io.StringIO()\n",
        "df_raw.info(buf=buffer)\n",
        "s = buffer.getvalue()\n",
        "st.text(s)\n",
        "\n",
        "st.subheader(\"Deskripsi Data (Kolom Numerik)\")\n",
        "st.dataframe(df_raw.describe())\n",
        "\n",
        "# --- Hasil K-Means Clustering ---\n",
        "st.header(\"4. Hasil K-Means Clustering\")\n",
        "\n",
        "st.markdown(\n",
        "    \"\"\"\n",
        "    K-Means Clustering adalah algoritma pembelajaran tanpa pengawasan yang mengelompokkan\n",
        "    titik data ke dalam sejumlah klaster berdasarkan kesamaan fitur. Dalam kasus ini, kami telah\n",
        "    mengelompokkan produk-produk Maven Roasters Coffee berdasarkan\n",
        "    **Jumlah Transaksi**, **Harga Per Unit**, dan **Total Penjualan** dari setiap transaksi.\n",
        "    Tujuan dari klasterisasi ini adalah untuk mengidentifikasi segmen-segmen produk yang berbeda\n",
        "    berdasarkan perilaku penjualan mereka.\n",
        "    \"\"\"\n",
        ")\n",
        "\n",
        "kmeans_features = ['transaction_qty', 'unit_price', 'total_sales']\n",
        "if all(col in df_processed.columns for col in kmeans_features):\n",
        "    df_processed['product_cluster'] = kmeans.predict(df_processed[kmeans_features])\n",
        "\n",
        "    st.subheader(\"Pusat Klaster (Centroid setiap klaster - nilai ternormalisasi):\")\n",
        "    st.write(\"Nilai-nilai ini menunjukkan rata-rata fitur untuk setiap klaster setelah proses normalisasi (skala 0-1).\")\n",
        "\n",
        "    # Membuat DataFrame untuk centroid\n",
        "    centroid_df = pd.DataFrame(kmeans.cluster_centers_, columns=kmeans_features)\n",
        "    # Ubah nama kolom indeks (0, 1, 2) menjadi nama yang lebih deskriptif\n",
        "    centroid_df.index.name = 'ID Klaster'\n",
        "    st.dataframe(centroid_df.style.format(\"{:.4f}\")) # Format tampilan agar lebih rapi\n",
        "\n",
        "    st.subheader(\"Interpretasi Klaster:\")\n",
        "    st.markdown(\n",
        "        \"\"\"\n",
        "        Berdasarkan analisis nilai centroid yang telah dinormalisasi:\n",
        "\n",
        "        * **Klaster 0: 'Produk Kurang Populer, Penjualan Rendah'**:\n",
        "            Produk-produk dalam klaster ini memiliki **jumlah transaksi rata-rata yang sangat rendah**,\n",
        "            **harga per unit rata-rata yang sedang-sedang saja**, dan **total penjualan rata-rata yang juga sangat rendah**.\n",
        "            Ini mengindikasikan produk yang mungkin kurang diminati atau hanya dibeli sesekali.\n",
        "        * **Klaster 1: 'Produk Populer, Harga Standar'**:\n",
        "            Klaster ini berisi produk-produk dengan **jumlah transaksi rata-rata tertinggi**\n",
        "            namun dengan **harga per unit rata-rata yang relatif standar/menengah**, dan **total penjualan rata-rata yang lebih tinggi dari Klaster 0**.\n",
        "            Produk-produk ini bisa jadi adalah yang paling sering dibeli dalam jumlah banyak oleh pelanggan.\n",
        "        * **Klaster 2: 'Produk Premium, Penjualan Tinggi'**:\n",
        "            Produk di klaster ini memiliki **jumlah transaksi rata-rata yang rendah** (namun tidak serendah Klaster 0),\n",
        "            **harga per unit rata-rata yang sangat tinggi**, dan menghasilkan **total penjualan rata-rata yang juga sangat tinggi**.\n",
        "            Ini menunjukkan produk-produk yang mungkin mahal namun bernilai tinggi, dibeli lebih jarang namun memberikan kontribusi besar pada pendapatan per unit.\n",
        "        \"\"\"\n",
        "    )\n",
        "    st.caption(\"Catatan: Interpretasi klaster bersifat perkiraan dan dapat disempurnakan dengan analisis lebih lanjut pada kategori/tipe produk asli.\")\n",
        "\n",
        "\n",
        "    st.subheader(\"Distribusi Produk per Klaster:\")\n",
        "    st.write(\"Tabel ini menunjukkan berapa banyak produk yang telah ditetapkan ke setiap klaster.\")\n",
        "    cluster_counts = df_processed['product_cluster'].value_counts().reset_index()\n",
        "    cluster_counts.columns = ['ID Klaster', 'Jumlah Produk'] # Mengubah nama kolom\n",
        "    st.dataframe(cluster_counts)\n",
        "\n",
        "    st.subheader(\"Visualisasi Klaster Produk:\")\n",
        "    st.write(\"Visualisasi ini menunjukkan bagaimana produk-produk tersebar di setiap klaster berdasarkan fitur 'transaction_qty' dan 'total_sales'.\")\n",
        "    # Menggunakan df_processed yang sudah memiliki kolom 'product_cluster'\n",
        "    fig_scatter = px.scatter(df_processed,\n",
        "                             x='transaction_qty',\n",
        "                             y='total_sales',\n",
        "                             color='product_cluster', # Warna berdasarkan klaster\n",
        "                             title='Sebaran Klaster Produk',\n",
        "                             labels={'transaction_qty': 'Jumlah Transaksi (Normalisasi)',\n",
        "                                     'total_sales': 'Total Penjualan (Normalisasi)'},\n",
        "                             hover_name='product_cluster' # Menampilkan ID klaster saat di-hover\n",
        "                            )\n",
        "    st.plotly_chart(fig_scatter, use_container_width=True)\n",
        "\n",
        "    # --- Bagian Baru: Detail Produk per Klaster ---\n",
        "    st.subheader(\"Detail Produk per Klaster (Eksplorasi)\")\n",
        "    st.write(\"Pilih ID Klaster untuk melihat detail produk yang termasuk di dalamnya, serta distribusi kategori dan tipe produknya.\")\n",
        "\n",
        "    selected_cluster_id = st.selectbox('Pilih Klaster ID untuk Detail:', options=sorted(df_processed['product_cluster'].unique()))\n",
        "\n",
        "    # Filter df_processed berdasarkan klaster yang dipilih\n",
        "    df_cluster_detail_processed = df_processed[df_processed['product_cluster'] == selected_cluster_id]\n",
        "\n",
        "    # Gabungkan kembali dengan df_raw untuk mendapatkan detail produk asli (non-normalisasi)\n",
        "    # Ini penting karena df_processed sudah ternormalisasi, jadi product_category dll akan tetap asli.\n",
        "    df_display_detail = df_raw.loc[df_cluster_detail_processed.index].copy() # Gunakan .copy() untuk menghindari SettingWithCopyWarning\n",
        "    df_display_detail['product_cluster'] = df_cluster_detail_processed['product_cluster'] # Tambahkan kembali kolom klaster\n",
        "\n",
        "    st.write(f\"**5 Baris Pertama Produk dalam Klaster {selected_cluster_id}:**\")\n",
        "    st.dataframe(df_display_detail.head())\n",
        "\n",
        "    st.write(f\"**Distribusi Kategori Produk dalam Klaster {selected_cluster_id}:**\")\n",
        "    st.dataframe(df_display_detail['product_category'].value_counts().reset_index().rename(columns={'index': 'Kategori Produk', 'product_category': 'Jumlah'}))\n",
        "\n",
        "    st.write(f\"**Distribusi Tipe Produk dalam Klaster {selected_cluster_id} (5 Teratas):**\")\n",
        "    st.dataframe(df_display_detail['product_type'].value_counts().head(5).reset_index().rename(columns={'index': 'Tipe Produk', 'product_type': 'Jumlah'}))\n",
        "\n",
        "    st.write(f\"**Distribusi Detail Produk dalam Klaster {selected_cluster_id} (5 Teratas):**\")\n",
        "    st.dataframe(df_display_detail['product_detail'].value_counts().head(5).reset_index().rename(columns={'index': 'Detail Produk', 'product_detail': 'Jumlah'}))\n",
        "\n",
        "else:\n",
        "    st.warning(\"Tidak dapat menampilkan hasil K-Means clustering: Kolom yang diperlukan tidak ditemukan dalam data yang diproses.\")\n",
        "\n",
        "\n",
        "# --- Prediksi Penjualan Harian ---\n",
        "st.header(\"5. Prediksi Penjualan Harian\")\n",
        "st.write(\"Prediksi total penjualan untuk hari tertentu dalam seminggu.\")\n",
        "\n",
        "# Opsi untuk hari dalam seminggu (Senin=0, Minggu=6)\n",
        "day_names = [\"Senin\", \"Selasa\", \"Rabu\", \"Kamis\", \"Jumat\", \"Sabtu\", \"Minggu\"]\n",
        "day_of_week_input = st.selectbox('Pilih Hari dalam Seminggu:', options=list(range(7)), format_func=lambda x: day_names[x])\n",
        "\n",
        "if st.button('Prediksi Penjualan Harian'):\n",
        "\n",
        "    # Pastikan data untuk inverse_transform adalah numpy array dengan bentuk yang benar\n",
        "    # dan hanya kolom 'total_sales' yang diisi dengan nilai prediksi.\n",
        "    predicted_daily_sales_normalized = daily_regressor.predict(np.array([[day_of_week_input]]))[0]\n",
        "\n",
        "    # Buat array dummy dengan nol, lalu masukkan nilai prediksi pada indeks kolom 'total_sales'\n",
        "    # Ini memastikan bahwa inverse_transform hanya membalikkan skala kolom yang relevan.\n",
        "    dummy_inverse_transform_array_daily = np.zeros((1, len(numerical_cols_for_scaling)))\n",
        "\n",
        "    # Dapatkan indeks kolom 'total_sales'\n",
        "    total_sales_col_index = numerical_cols_for_scaling.index('total_sales')\n",
        "    dummy_inverse_transform_array_daily[0, total_sales_col_index] = predicted_daily_sales_normalized\n",
        "\n",
        "    # Lakukan inverse_transform dan ambil nilai 'total_sales' yang sudah dikembalikan skalanya\n",
        "    predicted_daily_sales_original_scale = scaler.inverse_transform(dummy_inverse_transform_array_daily)[0, total_sales_col_index]\n",
        "\n",
        "    st.success(f'Prediksi Total Penjualan Harian untuk hari {day_names[day_of_week_input]} adalah: ${predicted_daily_sales_original_scale:.2f}')"
      ]
    },
    {
      "cell_type": "code",
      "execution_count": 38,
      "metadata": {
        "id": "NLQZHKfj4RYz"
      },
      "outputs": [],
      "source": [
        "from pyngrok import ngrok\n",
        "import threading\n",
        "import time\n",
        "import os"
      ]
    },
    {
      "cell_type": "code",
      "execution_count": 39,
      "metadata": {
        "id": "QKtdvg6M4R_2"
      },
      "outputs": [
        {
          "name": "stdout",
          "output_type": "stream",
          "text": [
            "Streamlit app is live at: NgrokTunnel: \"https://4928-114-10-45-98.ngrok-free.app\" -> \"http://localhost:8501\"\n"
          ]
        }
      ],
      "source": [
        "def run_streamlit():\n",
        "    os.system(\"streamlit run app.py --server.port 8501\")\n",
        "\n",
        "thread = threading.Thread(target=run_streamlit, daemon=True)\n",
        "thread.start()\n",
        "\n",
        "time.sleep(5)\n",
        "\n",
        "public_url = ngrok.connect(addr=8501)\n",
        "print(f\"Streamlit app is live at: {public_url}\")\n"
      ]
    }
  ],
  "metadata": {
    "colab": {
      "provenance": []
    },
    "kernelspec": {
      "display_name": "Python 3",
      "name": "python3"
    },
    "language_info": {
      "codemirror_mode": {
        "name": "ipython",
        "version": 3
      },
      "file_extension": ".py",
      "mimetype": "text/x-python",
      "name": "python",
      "nbconvert_exporter": "python",
      "pygments_lexer": "ipython3",
      "version": "3.13.3"
    }
  },
  "nbformat": 4,
  "nbformat_minor": 0
}
